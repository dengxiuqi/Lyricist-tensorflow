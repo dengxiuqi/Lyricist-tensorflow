{
 "cells": [
  {
   "cell_type": "code",
   "execution_count": 1,
   "metadata": {},
   "outputs": [
    {
     "name": "stderr",
     "output_type": "stream",
     "text": [
      "/Users/dengxiuqi/anaconda3/lib/python3.6/site-packages/h5py/__init__.py:34: FutureWarning: Conversion of the second argument of issubdtype from `float` to `np.floating` is deprecated. In future, it will be treated as `np.float64 == np.dtype(float).type`.\n",
      "  from ._conv import register_converters as _register_converters\n"
     ]
    }
   ],
   "source": [
    "from data import AttnDataSet\n",
    "from network import attention_network\n",
    "import jieba, jieba.posseg\n",
    "import tensorflow as tf\n",
    "from config import *\n",
    "import numpy as np"
   ]
  },
  {
   "cell_type": "code",
   "execution_count": 3,
   "metadata": {},
   "outputs": [],
   "source": [
    "# 给jieba分词加载自定义词典\n",
    "jieba.set_dictionary(\"./data/new_dict.txt\")\n",
    "\n",
    "# 定义数据集\n",
    "dataset = AttnDataSet(batch_size, max_length, vocab_size)"
   ]
  },
  {
   "cell_type": "markdown",
   "metadata": {},
   "source": [
    "### 网络结构"
   ]
  },
  {
   "cell_type": "code",
   "execution_count": 4,
   "metadata": {
    "scrolled": true
   },
   "outputs": [
    {
     "name": "stdout",
     "output_type": "stream",
     "text": [
      "WARNING:tensorflow:From /Users/dengxiuqi/anaconda3/lib/python3.6/site-packages/tensorflow/python/ops/rnn.py:430: calling reverse_sequence (from tensorflow.python.ops.array_ops) with seq_dim is deprecated and will be removed in a future version.\n",
      "Instructions for updating:\n",
      "seq_dim is deprecated, use seq_axis instead\n",
      "WARNING:tensorflow:From /Users/dengxiuqi/anaconda3/lib/python3.6/site-packages/tensorflow/python/util/deprecation.py:454: calling reverse_sequence (from tensorflow.python.ops.array_ops) with batch_dim is deprecated and will be removed in a future version.\n",
      "Instructions for updating:\n",
      "batch_dim is deprecated, use batch_axis instead\n"
     ]
    }
   ],
   "source": [
    "X_encoder = tf.placeholder(tf.float32, [batch_size, max_length, vector_size])\n",
    "X_decoder = tf.placeholder(tf.float32, [batch_size, max_length, vector_size])\n",
    "encoder_length = tf.placeholder(tf.int32, [batch_size])\n",
    "decoder_length = tf.placeholder(tf.int32, [batch_size])\n",
    "y = tf.placeholder(tf.int32, [batch_size, max_length])\n",
    "z_encoder = tf.placeholder(tf.int32, [batch_size, max_length])\n",
    "z_decoder = tf.placeholder(tf.int32, [batch_size, max_length])\n",
    "dropout_prob = tf.placeholder(tf.float32)\n",
    "\n",
    "output, decoder_state = attention_network(X_encoder, X_decoder, encoder_length, z_encoder,\n",
    "                                                      z_decoder, dropout_prob)\n",
    "alignments = decoder_state[3]\n",
    "alignment_history = decoder_state[4]"
   ]
  },
  {
   "cell_type": "markdown",
   "metadata": {},
   "source": [
    "### 加载模型"
   ]
  },
  {
   "cell_type": "code",
   "execution_count": 6,
   "metadata": {},
   "outputs": [
    {
     "name": "stdout",
     "output_type": "stream",
     "text": [
      "INFO:tensorflow:Restoring parameters from ./model/attention_model-500000\n"
     ]
    }
   ],
   "source": [
    "sess = tf.Session()\n",
    "sess.run(tf.global_variables_initializer())\n",
    "saver = tf.train.Saver()\n",
    "model_dir = \"./model\"\n",
    "checkPoint = tf.train.get_checkpoint_state(model_dir)\n",
    "saver.restore(sess, checkPoint.model_checkpoint_path)"
   ]
  },
  {
   "cell_type": "code",
   "execution_count": 7,
   "metadata": {
    "collapsed": true
   },
   "outputs": [],
   "source": [
    "def Z_generator(length, decode=False):\n",
    "    z = np.zeros(max_length, dtype=np.int32)\n",
    "    if length == 1:\n",
    "        z[0 + int(decode)] = 4\n",
    "    elif length == 2:\n",
    "        z[0 + int(decode)], z[1 + int(decode)] = 3, 4\n",
    "    elif length == 3:\n",
    "        z[0 + int(decode)], z[1 + int(decode)], z[2 + int(decode)] = 2, 3, 4\n",
    "    elif length >= 4:\n",
    "        z[0 + int(decode)], z[length-3 + int(decode)], z[length-2 + int(decode)], z[length-1 + int(decode)] = 1, 2, 3, 4\n",
    "    return z"
   ]
  },
  {
   "cell_type": "code",
   "execution_count": 8,
   "metadata": {
    "collapsed": true
   },
   "outputs": [],
   "source": [
    "def generator(sentence1, sentence2, z_flags2):\n",
    "    _encoder_length = np.zeros((batch_size), dtype=np.int32)\n",
    "    _encoder_length[0] = len(sentence1)\n",
    "    _X_encoder = dataset.sentence2seq(sentence1)\n",
    "    _X_decoder = dataset.sentence2seq(sentence2)\n",
    "    _z_encoder = np.zeros((batch_size, max_length), dtype=np.int32)\n",
    "    _z_decoder = np.zeros((batch_size, max_length), dtype=np.int32)\n",
    "    _z_encoder[0] = np.zeros((max_length), dtype=np.int32)\n",
    "    _z_decoder[0] = z_flags2\n",
    "    \n",
    "    logists, align = sess.run([output, alignment_history.read(len(sentence2) - 1)], feed_dict={X_encoder: _X_encoder, X_decoder: _X_decoder, \n",
    "                                          encoder_length: _encoder_length, \n",
    "                                          z_encoder: _z_encoder, z_decoder: _z_decoder, dropout_prob: 1.})\n",
    "    result = logists.argsort(axis=2)[0, len(sentence2) - 1, :].tolist()  # 按概率大小对词袋索引进行排序\n",
    "    result.reverse()\n",
    "    for key, value in enumerate(result):\n",
    "        result[key] = dataset.word_bag[value]  # 将索引换乘对应的词语\n",
    "    return result, align"
   ]
  },
  {
   "cell_type": "markdown",
   "metadata": {},
   "source": [
    "### 上下文相关、情感\n",
    "下句相同，改变上句，会影响当前生成结果"
   ]
  },
  {
   "cell_type": "code",
   "execution_count": 15,
   "metadata": {},
   "outputs": [
    {
     "name": "stdout",
     "output_type": "stream",
     "text": [
      "注意力分布: [[0.20360762 0.3191696  0.14018247 0.09243581 0.24460447]]\n",
      "生成结果: ['祖国', '阳光', '太阳', '新疆', '家庭', '惊叹', '大道', '蓝天', '成绩', '春天']\n"
     ]
    }
   ],
   "source": [
    "s1 = [\"迎接\", \"早晨\", \"灿烂\", \"的\", \"阳光\"]\n",
    "s2 = [\"<GO>\", \"我\", \"的\"]\n",
    "s2_length = 4\n",
    "z2 = Z_generator(s2_length, decode=True)\n",
    "result, align = generator(s1, s2, z2)\n",
    "print(\"注意力分布:\", align[:, :len(s1)])\n",
    "print(\"生成结果:\", result[:10])"
   ]
  },
  {
   "cell_type": "code",
   "execution_count": 16,
   "metadata": {},
   "outputs": [
    {
     "name": "stdout",
     "output_type": "stream",
     "text": [
      "注意力分布: [[0.29617822 0.0401211  0.09877114 0.15365875 0.07016596 0.12643187\n",
      "  0.21467307]]\n",
      "生成结果: ['眼角', '眼泪', '心里', '心碎', '泪水', '爱', '泪', '伤心', '泪光', '心理']\n"
     ]
    }
   ],
   "source": [
    "s1 = [\"眼角\", \"留\", \"着\", \"你\", \"给\", \"的\", \"泪水\"]\n",
    "s2 = [\"<GO>\", \"我\", \"的\"]\n",
    "s2_length = 4\n",
    "z2 = Z_generator(s2_length, decode=True)\n",
    "result, align = generator(s1, s2, z2)\n",
    "print(\"注意力分布:\", align[:, :len(s1)])\n",
    "print(\"生成结果:\", result[:10])"
   ]
  },
  {
   "cell_type": "code",
   "execution_count": 17,
   "metadata": {},
   "outputs": [
    {
     "name": "stdout",
     "output_type": "stream",
     "text": [
      "注意力分布: [[0.129262   0.08518599 0.46715733 0.09963258 0.09444849 0.12431359]]\n",
      "生成结果: ['迷惘', '孤独', '寂寞', '黑夜', '星光', '孤单', '彷徨', '放逐', '无垠', '心']\n"
     ]
    }
   ],
   "source": [
    "s1 = [\"我\", \"在\", \"黑夜\", \"之中\", \"寻找\", \"出口\"]\n",
    "s2 = [\"<GO>\", \"我\", \"的\"]\n",
    "s2_length = 4\n",
    "z2 = Z_generator(s2_length, decode=True)\n",
    "result, align = generator(s1, s2, z2)\n",
    "print(\"注意力分布:\", align[:, :len(s1)])\n",
    "print(\"生成结果:\", result[:10])"
   ]
  },
  {
   "cell_type": "code",
   "execution_count": 19,
   "metadata": {},
   "outputs": [
    {
     "name": "stdout",
     "output_type": "stream",
     "text": [
      "注意力分布: [[0.15871677 0.16507187 0.32744813 0.34876317]]\n",
      "生成结果: ['爱人', '人生', '快乐', '美梦', '小', '生命', '爱情', '热情', '健壮', '心']\n"
     ]
    }
   ],
   "source": [
    "s1 = [\"给\", \"我\", \"甜蜜\", \"笑容\"]\n",
    "s2 = [\"<GO>\", \"我\", \"的\"]\n",
    "s2_length = 4\n",
    "z2 = Z_generator(s2_length, decode=True)\n",
    "result, align = generator(s1, s2, z2)\n",
    "print(\"注意力分布:\", align[:, :len(s1)])\n",
    "print(\"生成结果:\", result[:10])"
   ]
  },
  {
   "cell_type": "code",
   "execution_count": null,
   "metadata": {
    "collapsed": true
   },
   "outputs": [],
   "source": []
  }
 ],
 "metadata": {
  "kernelspec": {
   "display_name": "Python 3",
   "language": "python",
   "name": "python3"
  },
  "language_info": {
   "codemirror_mode": {
    "name": "ipython",
    "version": 3
   },
   "file_extension": ".py",
   "mimetype": "text/x-python",
   "name": "python",
   "nbconvert_exporter": "python",
   "pygments_lexer": "ipython3",
   "version": "3.6.8"
  }
 },
 "nbformat": 4,
 "nbformat_minor": 2
}
